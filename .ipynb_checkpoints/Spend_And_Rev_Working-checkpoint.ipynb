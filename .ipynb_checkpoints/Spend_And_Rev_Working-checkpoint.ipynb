{
 "cells": [
  {
   "cell_type": "markdown",
   "metadata": {},
   "source": [
    "# Spend and Rev Working File\n",
    "\n",
    "* In this notebook I'm going to use the Spending_and_Revenue csv file to help me create my schemas for the lookup tables I want to add to my database.\n",
    "\n",
    "* I want to create an Organization Group lookup table and a Department lookup table in the CCSF database. To do so I first need to find all the unique values in those columns so I can build their tables later."
   ]
  },
  {
   "cell_type": "code",
   "execution_count": 178,
   "metadata": {
    "collapsed": true
   },
   "outputs": [],
   "source": [
    "# Render our plots inline\n",
    "%matplotlib inline\n",
    "\n",
    "import pandas as pd\n",
    "import matplotlib.pyplot as plt\n",
    "import matplotlib\n",
    "matplotlib.style.use('ggplot')\n",
    "plt.rcParams['figure.figsize'] = (15, 5)"
   ]
  },
  {
   "cell_type": "code",
   "execution_count": 179,
   "metadata": {
    "collapsed": false
   },
   "outputs": [],
   "source": [
    "spend_and_rev = pd.read_csv('../Spending_And_Revenue.csv')"
   ]
  },
  {
   "cell_type": "code",
   "execution_count": 180,
   "metadata": {
    "collapsed": false
   },
   "outputs": [
    {
     "data": {
      "text/html": [
       "<div>\n",
       "<table border=\"1\" class=\"dataframe\">\n",
       "  <thead>\n",
       "    <tr style=\"text-align: right;\">\n",
       "      <th></th>\n",
       "      <th>Fiscal Year</th>\n",
       "      <th>Revenue or Spending</th>\n",
       "      <th>Organization Group Code</th>\n",
       "      <th>Organization Group</th>\n",
       "      <th>Department Code</th>\n",
       "      <th>Department</th>\n",
       "      <th>Program Code</th>\n",
       "      <th>Program</th>\n",
       "      <th>Character Code</th>\n",
       "      <th>Character</th>\n",
       "      <th>Object Code</th>\n",
       "      <th>Object</th>\n",
       "      <th>Sub-object Code</th>\n",
       "      <th>Sub-object</th>\n",
       "      <th>Fund Type Code</th>\n",
       "      <th>Fund Type</th>\n",
       "      <th>Amount</th>\n",
       "    </tr>\n",
       "  </thead>\n",
       "  <tbody>\n",
       "    <tr>\n",
       "      <th>0</th>\n",
       "      <td>2016</td>\n",
       "      <td>Spending</td>\n",
       "      <td>2</td>\n",
       "      <td>Public Works, Transportation &amp; Commerce</td>\n",
       "      <td>DPW</td>\n",
       "      <td>General Services Agency - Public Works</td>\n",
       "      <td>BAM</td>\n",
       "      <td>Architecture</td>\n",
       "      <td>013</td>\n",
       "      <td>Mandatory Fringe Benefits</td>\n",
       "      <td>017</td>\n",
       "      <td>Unemployment Insurance</td>\n",
       "      <td>01701</td>\n",
       "      <td>Unemployment Insurance</td>\n",
       "      <td>2S</td>\n",
       "      <td>Special Revenue Funds</td>\n",
       "      <td>9919.50</td>\n",
       "    </tr>\n",
       "    <tr>\n",
       "      <th>1</th>\n",
       "      <td>2016</td>\n",
       "      <td>Revenue</td>\n",
       "      <td>2</td>\n",
       "      <td>Public Works, Transportation &amp; Commerce</td>\n",
       "      <td>MTA</td>\n",
       "      <td>Municipal Transportation Agency</td>\n",
       "      <td>BE0</td>\n",
       "      <td>Revenue, Transfers &amp; Reserves</td>\n",
       "      <td>200</td>\n",
       "      <td>Licenses, Permits &amp; Franchises</td>\n",
       "      <td>202</td>\n",
       "      <td>Other Business/Professional Licenses</td>\n",
       "      <td>20231</td>\n",
       "      <td>Taxi Medallion Sales</td>\n",
       "      <td>5O</td>\n",
       "      <td>MTA Taxi Commission</td>\n",
       "      <td>1861428.24</td>\n",
       "    </tr>\n",
       "    <tr>\n",
       "      <th>2</th>\n",
       "      <td>2014</td>\n",
       "      <td>Spending</td>\n",
       "      <td>2</td>\n",
       "      <td>Public Works, Transportation &amp; Commerce</td>\n",
       "      <td>WTR</td>\n",
       "      <td>PUC Water Department</td>\n",
       "      <td>BDL</td>\n",
       "      <td>Water Pumping</td>\n",
       "      <td>040</td>\n",
       "      <td>Materials &amp; Supplies</td>\n",
       "      <td>049</td>\n",
       "      <td>Other Materials &amp; Supplies</td>\n",
       "      <td>04951</td>\n",
       "      <td>Other Office Supplies</td>\n",
       "      <td>5W</td>\n",
       "      <td>PUC Water Department Funds</td>\n",
       "      <td>294.13</td>\n",
       "    </tr>\n",
       "  </tbody>\n",
       "</table>\n",
       "</div>"
      ],
      "text/plain": [
       "   Fiscal Year Revenue or Spending  Organization Group Code  \\\n",
       "0         2016            Spending                        2   \n",
       "1         2016             Revenue                        2   \n",
       "2         2014            Spending                        2   \n",
       "\n",
       "                        Organization Group Department Code  \\\n",
       "0  Public Works, Transportation & Commerce             DPW   \n",
       "1  Public Works, Transportation & Commerce             MTA   \n",
       "2  Public Works, Transportation & Commerce             WTR   \n",
       "\n",
       "                               Department Program Code  \\\n",
       "0  General Services Agency - Public Works          BAM   \n",
       "1         Municipal Transportation Agency          BE0   \n",
       "2                    PUC Water Department          BDL   \n",
       "\n",
       "                         Program Character Code  \\\n",
       "0                   Architecture            013   \n",
       "1  Revenue, Transfers & Reserves            200   \n",
       "2                  Water Pumping            040   \n",
       "\n",
       "                        Character Object Code  \\\n",
       "0       Mandatory Fringe Benefits         017   \n",
       "1  Licenses, Permits & Franchises         202   \n",
       "2            Materials & Supplies         049   \n",
       "\n",
       "                                 Object Sub-object Code  \\\n",
       "0                Unemployment Insurance           01701   \n",
       "1  Other Business/Professional Licenses           20231   \n",
       "2            Other Materials & Supplies           04951   \n",
       "\n",
       "               Sub-object Fund Type Code                   Fund Type  \\\n",
       "0  Unemployment Insurance             2S       Special Revenue Funds   \n",
       "1    Taxi Medallion Sales             5O         MTA Taxi Commission   \n",
       "2   Other Office Supplies             5W  PUC Water Department Funds   \n",
       "\n",
       "       Amount  \n",
       "0     9919.50  \n",
       "1  1861428.24  \n",
       "2      294.13  "
      ]
     },
     "execution_count": 180,
     "metadata": {},
     "output_type": "execute_result"
    }
   ],
   "source": [
    "spend_and_rev[:3]"
   ]
  },
  {
   "cell_type": "markdown",
   "metadata": {},
   "source": [
    "## Changing Column Names\n",
    "\n",
    "#### After some experimenting I discovered that spaces in the column names do not play nicely with pandas unique function "
   ]
  },
  {
   "cell_type": "code",
   "execution_count": 181,
   "metadata": {
    "collapsed": false
   },
   "outputs": [
    {
     "data": {
      "text/html": [
       "<div>\n",
       "<table border=\"1\" class=\"dataframe\">\n",
       "  <thead>\n",
       "    <tr style=\"text-align: right;\">\n",
       "      <th></th>\n",
       "      <th>Fiscal Year</th>\n",
       "      <th>Revenue or Spending</th>\n",
       "      <th>OrgGroupID</th>\n",
       "      <th>OrgGroup</th>\n",
       "      <th>DeptID</th>\n",
       "      <th>Dept</th>\n",
       "      <th>Program Code</th>\n",
       "      <th>Program</th>\n",
       "      <th>Character Code</th>\n",
       "      <th>Character</th>\n",
       "      <th>Object Code</th>\n",
       "      <th>Object</th>\n",
       "      <th>Sub-object Code</th>\n",
       "      <th>Sub-object</th>\n",
       "      <th>Fund Type Code</th>\n",
       "      <th>Fund Type</th>\n",
       "      <th>Amount</th>\n",
       "    </tr>\n",
       "  </thead>\n",
       "  <tbody>\n",
       "    <tr>\n",
       "      <th>0</th>\n",
       "      <td>2016</td>\n",
       "      <td>Spending</td>\n",
       "      <td>2</td>\n",
       "      <td>Public Works, Transportation &amp; Commerce</td>\n",
       "      <td>DPW</td>\n",
       "      <td>General Services Agency - Public Works</td>\n",
       "      <td>BAM</td>\n",
       "      <td>Architecture</td>\n",
       "      <td>013</td>\n",
       "      <td>Mandatory Fringe Benefits</td>\n",
       "      <td>017</td>\n",
       "      <td>Unemployment Insurance</td>\n",
       "      <td>01701</td>\n",
       "      <td>Unemployment Insurance</td>\n",
       "      <td>2S</td>\n",
       "      <td>Special Revenue Funds</td>\n",
       "      <td>9919.50</td>\n",
       "    </tr>\n",
       "    <tr>\n",
       "      <th>1</th>\n",
       "      <td>2016</td>\n",
       "      <td>Revenue</td>\n",
       "      <td>2</td>\n",
       "      <td>Public Works, Transportation &amp; Commerce</td>\n",
       "      <td>MTA</td>\n",
       "      <td>Municipal Transportation Agency</td>\n",
       "      <td>BE0</td>\n",
       "      <td>Revenue, Transfers &amp; Reserves</td>\n",
       "      <td>200</td>\n",
       "      <td>Licenses, Permits &amp; Franchises</td>\n",
       "      <td>202</td>\n",
       "      <td>Other Business/Professional Licenses</td>\n",
       "      <td>20231</td>\n",
       "      <td>Taxi Medallion Sales</td>\n",
       "      <td>5O</td>\n",
       "      <td>MTA Taxi Commission</td>\n",
       "      <td>1861428.24</td>\n",
       "    </tr>\n",
       "    <tr>\n",
       "      <th>2</th>\n",
       "      <td>2014</td>\n",
       "      <td>Spending</td>\n",
       "      <td>2</td>\n",
       "      <td>Public Works, Transportation &amp; Commerce</td>\n",
       "      <td>WTR</td>\n",
       "      <td>PUC Water Department</td>\n",
       "      <td>BDL</td>\n",
       "      <td>Water Pumping</td>\n",
       "      <td>040</td>\n",
       "      <td>Materials &amp; Supplies</td>\n",
       "      <td>049</td>\n",
       "      <td>Other Materials &amp; Supplies</td>\n",
       "      <td>04951</td>\n",
       "      <td>Other Office Supplies</td>\n",
       "      <td>5W</td>\n",
       "      <td>PUC Water Department Funds</td>\n",
       "      <td>294.13</td>\n",
       "    </tr>\n",
       "  </tbody>\n",
       "</table>\n",
       "</div>"
      ],
      "text/plain": [
       "   Fiscal Year Revenue or Spending  OrgGroupID  \\\n",
       "0         2016            Spending           2   \n",
       "1         2016             Revenue           2   \n",
       "2         2014            Spending           2   \n",
       "\n",
       "                                  OrgGroup DeptID  \\\n",
       "0  Public Works, Transportation & Commerce    DPW   \n",
       "1  Public Works, Transportation & Commerce    MTA   \n",
       "2  Public Works, Transportation & Commerce    WTR   \n",
       "\n",
       "                                     Dept Program Code  \\\n",
       "0  General Services Agency - Public Works          BAM   \n",
       "1         Municipal Transportation Agency          BE0   \n",
       "2                    PUC Water Department          BDL   \n",
       "\n",
       "                         Program Character Code  \\\n",
       "0                   Architecture            013   \n",
       "1  Revenue, Transfers & Reserves            200   \n",
       "2                  Water Pumping            040   \n",
       "\n",
       "                        Character Object Code  \\\n",
       "0       Mandatory Fringe Benefits         017   \n",
       "1  Licenses, Permits & Franchises         202   \n",
       "2            Materials & Supplies         049   \n",
       "\n",
       "                                 Object Sub-object Code  \\\n",
       "0                Unemployment Insurance           01701   \n",
       "1  Other Business/Professional Licenses           20231   \n",
       "2            Other Materials & Supplies           04951   \n",
       "\n",
       "               Sub-object Fund Type Code                   Fund Type  \\\n",
       "0  Unemployment Insurance             2S       Special Revenue Funds   \n",
       "1    Taxi Medallion Sales             5O         MTA Taxi Commission   \n",
       "2   Other Office Supplies             5W  PUC Water Department Funds   \n",
       "\n",
       "       Amount  \n",
       "0     9919.50  \n",
       "1  1861428.24  \n",
       "2      294.13  "
      ]
     },
     "execution_count": 181,
     "metadata": {},
     "output_type": "execute_result"
    }
   ],
   "source": [
    "spend_and_rev = spend_and_rev.rename(columns={'Organization Group Code': 'OrgGroupID', 'Organization Group': 'OrgGroup', \n",
    "                                              'Department Code': 'DeptID', 'Department': 'Dept'})\n",
    "spend_and_rev[:3]"
   ]
  },
  {
   "cell_type": "markdown",
   "metadata": {},
   "source": [
    "## Delete Unused Columns\n",
    "\n",
    "#### Theres a number of columns that Im not going to use so Im just going to delete them."
   ]
  },
  {
   "cell_type": "code",
   "execution_count": 182,
   "metadata": {
    "collapsed": true
   },
   "outputs": [],
   "source": [
    "del spend_and_rev['Program Code']"
   ]
  },
  {
   "cell_type": "code",
   "execution_count": 183,
   "metadata": {
    "collapsed": true
   },
   "outputs": [],
   "source": [
    "del spend_and_rev['Program']"
   ]
  },
  {
   "cell_type": "code",
   "execution_count": 184,
   "metadata": {
    "collapsed": true
   },
   "outputs": [],
   "source": [
    "del spend_and_rev['Character Code']"
   ]
  },
  {
   "cell_type": "code",
   "execution_count": 185,
   "metadata": {
    "collapsed": true
   },
   "outputs": [],
   "source": [
    "del spend_and_rev['Character']"
   ]
  },
  {
   "cell_type": "code",
   "execution_count": 186,
   "metadata": {
    "collapsed": true
   },
   "outputs": [],
   "source": [
    "del spend_and_rev['Object Code']"
   ]
  },
  {
   "cell_type": "code",
   "execution_count": 187,
   "metadata": {
    "collapsed": true
   },
   "outputs": [],
   "source": [
    "del spend_and_rev['Object']"
   ]
  },
  {
   "cell_type": "code",
   "execution_count": 188,
   "metadata": {
    "collapsed": true
   },
   "outputs": [],
   "source": [
    "del spend_and_rev['Sub-object Code']"
   ]
  },
  {
   "cell_type": "code",
   "execution_count": 189,
   "metadata": {
    "collapsed": true
   },
   "outputs": [],
   "source": [
    "del spend_and_rev['Sub-object']"
   ]
  },
  {
   "cell_type": "code",
   "execution_count": 190,
   "metadata": {
    "collapsed": true
   },
   "outputs": [],
   "source": [
    "del spend_and_rev['Fund Type Code']"
   ]
  },
  {
   "cell_type": "code",
   "execution_count": 191,
   "metadata": {
    "collapsed": true
   },
   "outputs": [],
   "source": [
    "del spend_and_rev['Fund Type']"
   ]
  },
  {
   "cell_type": "code",
   "execution_count": 192,
   "metadata": {
    "collapsed": false
   },
   "outputs": [
    {
     "data": {
      "text/html": [
       "<div>\n",
       "<table border=\"1\" class=\"dataframe\">\n",
       "  <thead>\n",
       "    <tr style=\"text-align: right;\">\n",
       "      <th></th>\n",
       "      <th>Fiscal Year</th>\n",
       "      <th>Revenue or Spending</th>\n",
       "      <th>OrgGroupID</th>\n",
       "      <th>OrgGroup</th>\n",
       "      <th>DeptID</th>\n",
       "      <th>Dept</th>\n",
       "      <th>Amount</th>\n",
       "    </tr>\n",
       "  </thead>\n",
       "  <tbody>\n",
       "    <tr>\n",
       "      <th>0</th>\n",
       "      <td>2016</td>\n",
       "      <td>Spending</td>\n",
       "      <td>2</td>\n",
       "      <td>Public Works, Transportation &amp; Commerce</td>\n",
       "      <td>DPW</td>\n",
       "      <td>General Services Agency - Public Works</td>\n",
       "      <td>9919.50</td>\n",
       "    </tr>\n",
       "    <tr>\n",
       "      <th>1</th>\n",
       "      <td>2016</td>\n",
       "      <td>Revenue</td>\n",
       "      <td>2</td>\n",
       "      <td>Public Works, Transportation &amp; Commerce</td>\n",
       "      <td>MTA</td>\n",
       "      <td>Municipal Transportation Agency</td>\n",
       "      <td>1861428.24</td>\n",
       "    </tr>\n",
       "    <tr>\n",
       "      <th>2</th>\n",
       "      <td>2014</td>\n",
       "      <td>Spending</td>\n",
       "      <td>2</td>\n",
       "      <td>Public Works, Transportation &amp; Commerce</td>\n",
       "      <td>WTR</td>\n",
       "      <td>PUC Water Department</td>\n",
       "      <td>294.13</td>\n",
       "    </tr>\n",
       "  </tbody>\n",
       "</table>\n",
       "</div>"
      ],
      "text/plain": [
       "   Fiscal Year Revenue or Spending  OrgGroupID  \\\n",
       "0         2016            Spending           2   \n",
       "1         2016             Revenue           2   \n",
       "2         2014            Spending           2   \n",
       "\n",
       "                                  OrgGroup DeptID  \\\n",
       "0  Public Works, Transportation & Commerce    DPW   \n",
       "1  Public Works, Transportation & Commerce    MTA   \n",
       "2  Public Works, Transportation & Commerce    WTR   \n",
       "\n",
       "                                     Dept      Amount  \n",
       "0  General Services Agency - Public Works     9919.50  \n",
       "1         Municipal Transportation Agency  1861428.24  \n",
       "2                    PUC Water Department      294.13  "
      ]
     },
     "execution_count": 192,
     "metadata": {},
     "output_type": "execute_result"
    }
   ],
   "source": [
    "# check dataframe \n",
    "spend_and_rev[:3]"
   ]
  },
  {
   "cell_type": "markdown",
   "metadata": {},
   "source": [
    "## OrgGroupID & OrgGroup Unique Values"
   ]
  },
  {
   "cell_type": "code",
   "execution_count": 193,
   "metadata": {
    "collapsed": false
   },
   "outputs": [
    {
     "data": {
      "text/plain": [
       "array([2, 1, 3, 7, 6, 5, 4])"
      ]
     },
     "execution_count": 193,
     "metadata": {},
     "output_type": "execute_result"
    }
   ],
   "source": [
    "OrgGroupID = pd.unique(spend_and_rev.OrgGroupID.ravel())\n",
    "OrgGroupID"
   ]
  },
  {
   "cell_type": "code",
   "execution_count": 194,
   "metadata": {
    "collapsed": false
   },
   "outputs": [
    {
     "data": {
      "text/plain": [
       "array(['Public Works, Transportation & Commerce', 'Public Protection',\n",
       "       'Human Welfare & Neighborhood Development',\n",
       "       'General City Responsibilities', 'General Administration & Finance',\n",
       "       'Culture & Recreation', 'Community Health'], dtype=object)"
      ]
     },
     "execution_count": 194,
     "metadata": {},
     "output_type": "execute_result"
    }
   ],
   "source": [
    "OrgGroup = pd.unique(spend_and_rev.OrgGroup.ravel())\n",
    "OrgGroup"
   ]
  },
  {
   "cell_type": "code",
   "execution_count": 195,
   "metadata": {
    "collapsed": false
   },
   "outputs": [
    {
     "data": {
      "text/plain": [
       "[(1, 'Public Protection'),\n",
       " (2, 'Public Works, Transportation & Commerce'),\n",
       " (3, 'Human Welfare & Neighborhood Development'),\n",
       " (4, 'Community Health'),\n",
       " (5, 'Culture & Recreation'),\n",
       " (6, 'General Administration & Finance'),\n",
       " (7, 'General City Responsibilities')]"
      ]
     },
     "execution_count": 195,
     "metadata": {},
     "output_type": "execute_result"
    }
   ],
   "source": [
    "# Create a list of tuples of unique values\n",
    "# each tuple contains (orgGroupID, orgGroup)\n",
    "orgExport = []\n",
    "\n",
    "len(orgGroupID)\n",
    "iterator = 0\n",
    "\n",
    "\n",
    "while iterator < len(orgGroupID):\n",
    "    my_tuple = (orgGroupID[iterator], orgGroup[iterator])\n",
    "    orgExport.append(my_tuple)\n",
    "    iterator += 1\n",
    "orgExport.sort()\n",
    "orgExport\n",
    " "
   ]
  },
  {
   "cell_type": "markdown",
   "metadata": {},
   "source": [
    "## DeptID & Dept\n",
    "\n",
    "#### After checking the dataset I noticed that more then one DeptID can refer to a single Dept."
   ]
  },
  {
   "cell_type": "code",
   "execution_count": 196,
   "metadata": {
    "collapsed": false
   },
   "outputs": [
    {
     "data": {
      "text/html": [
       "<div>\n",
       "<table border=\"1\" class=\"dataframe\">\n",
       "  <thead>\n",
       "    <tr style=\"text-align: right;\">\n",
       "      <th></th>\n",
       "      <th>Fiscal Year</th>\n",
       "      <th>Revenue or Spending</th>\n",
       "      <th>OrgGroupID</th>\n",
       "      <th>OrgGroup</th>\n",
       "      <th>DeptID</th>\n",
       "      <th>Dept</th>\n",
       "      <th>Amount</th>\n",
       "      <th>DepCon</th>\n",
       "    </tr>\n",
       "  </thead>\n",
       "  <tbody>\n",
       "    <tr>\n",
       "      <th>0</th>\n",
       "      <td>2016</td>\n",
       "      <td>Spending</td>\n",
       "      <td>2</td>\n",
       "      <td>Public Works, Transportation &amp; Commerce</td>\n",
       "      <td>DPW</td>\n",
       "      <td>General Services Agency - Public Works</td>\n",
       "      <td>9919.50</td>\n",
       "      <td>DPW, General Services Agency - Public Works</td>\n",
       "    </tr>\n",
       "    <tr>\n",
       "      <th>1</th>\n",
       "      <td>2016</td>\n",
       "      <td>Revenue</td>\n",
       "      <td>2</td>\n",
       "      <td>Public Works, Transportation &amp; Commerce</td>\n",
       "      <td>MTA</td>\n",
       "      <td>Municipal Transportation Agency</td>\n",
       "      <td>1861428.24</td>\n",
       "      <td>MTA, Municipal Transportation Agency</td>\n",
       "    </tr>\n",
       "    <tr>\n",
       "      <th>2</th>\n",
       "      <td>2014</td>\n",
       "      <td>Spending</td>\n",
       "      <td>2</td>\n",
       "      <td>Public Works, Transportation &amp; Commerce</td>\n",
       "      <td>WTR</td>\n",
       "      <td>PUC Water Department</td>\n",
       "      <td>294.13</td>\n",
       "      <td>WTR, PUC Water Department</td>\n",
       "    </tr>\n",
       "  </tbody>\n",
       "</table>\n",
       "</div>"
      ],
      "text/plain": [
       "   Fiscal Year Revenue or Spending  OrgGroupID  \\\n",
       "0         2016            Spending           2   \n",
       "1         2016             Revenue           2   \n",
       "2         2014            Spending           2   \n",
       "\n",
       "                                  OrgGroup DeptID  \\\n",
       "0  Public Works, Transportation & Commerce    DPW   \n",
       "1  Public Works, Transportation & Commerce    MTA   \n",
       "2  Public Works, Transportation & Commerce    WTR   \n",
       "\n",
       "                                     Dept      Amount  \\\n",
       "0  General Services Agency - Public Works     9919.50   \n",
       "1         Municipal Transportation Agency  1861428.24   \n",
       "2                    PUC Water Department      294.13   \n",
       "\n",
       "                                        DepCon  \n",
       "0  DPW, General Services Agency - Public Works  \n",
       "1         MTA, Municipal Transportation Agency  \n",
       "2                    WTR, PUC Water Department  "
      ]
     },
     "execution_count": 196,
     "metadata": {},
     "output_type": "execute_result"
    }
   ],
   "source": [
    "# Concatenate DeptId and Dept into a single column\n",
    "spend_and_rev[\"DepCon\"] = spend_and_rev[\"DeptID\"].map(str) + \", \" + spend_and_rev[\"Dept\"]\n",
    "spend_and_rev[:3]"
   ]
  },
  {
   "cell_type": "code",
   "execution_count": 197,
   "metadata": {
    "collapsed": false
   },
   "outputs": [
    {
     "data": {
      "text/plain": [
       "array(['AAM, Asian Art Museum',\n",
       "       'ADM, General Services Agency - City Admin', 'ADP, Adult Probation'], dtype=object)"
      ]
     },
     "execution_count": 197,
     "metadata": {},
     "output_type": "execute_result"
    }
   ],
   "source": [
    "# Grab all the unique values in the column\n",
    "DepCon = pd.unique(spend_and_rev.DepCon.ravel())\n",
    "DepCon.sort()\n",
    "DepCon[:3]"
   ]
  },
  {
   "cell_type": "code",
   "execution_count": 198,
   "metadata": {
    "collapsed": false
   },
   "outputs": [
    {
     "data": {
      "text/plain": [
       "[('AAM', 'Asian Art Museum'),\n",
       " ('ADM', 'General Services Agency - City Admin'),\n",
       " ('ADP', 'Adult Probation')]"
      ]
     },
     "execution_count": 198,
     "metadata": {},
     "output_type": "execute_result"
    }
   ],
   "source": [
    "# Create a list of tuples of unique values\n",
    "# each tuple contains (DeptID, Dept)\n",
    "deptExport = []\n",
    "\n",
    "len(DepCon)\n",
    "iterator = 0\n",
    "\n",
    "\n",
    "while iterator < len(DepCon):\n",
    "    my_tuple = (DepCon[iterator][0:3], DepCon[iterator][5:len(DepCon[iterator])])\n",
    "    deptExport.append(my_tuple)\n",
    "    iterator += 1\n",
    "deptExport.sort()\n",
    "deptExport[:3]\n",
    "\n"
   ]
  },
  {
   "cell_type": "markdown",
   "metadata": {},
   "source": [
    "## Character Code"
   ]
  },
  {
   "cell_type": "code",
   "execution_count": 92,
   "metadata": {
    "collapsed": true
   },
   "outputs": [],
   "source": [
    "spend_and_rev = spend_and_rev.rename(columns={'Character Code': 'CharacterID', 'Character': 'Character'})"
   ]
  },
  {
   "cell_type": "code",
   "execution_count": 97,
   "metadata": {
    "collapsed": false
   },
   "outputs": [
    {
     "data": {
      "text/html": [
       "<div>\n",
       "<table border=\"1\" class=\"dataframe\">\n",
       "  <thead>\n",
       "    <tr style=\"text-align: right;\">\n",
       "      <th></th>\n",
       "      <th>Fiscal Year</th>\n",
       "      <th>Revenue or Spending</th>\n",
       "      <th>OrgGroupID</th>\n",
       "      <th>OrgGroup</th>\n",
       "      <th>DeptID</th>\n",
       "      <th>Dept</th>\n",
       "      <th>ProgramID</th>\n",
       "      <th>Program</th>\n",
       "      <th>CharacterID</th>\n",
       "      <th>Character</th>\n",
       "      <th>Object Code</th>\n",
       "      <th>Object</th>\n",
       "      <th>Sub-object Code</th>\n",
       "      <th>Sub-object</th>\n",
       "      <th>Fund Type Code</th>\n",
       "      <th>Fund Type</th>\n",
       "      <th>Amount</th>\n",
       "    </tr>\n",
       "  </thead>\n",
       "  <tbody>\n",
       "    <tr>\n",
       "      <th>0</th>\n",
       "      <td>2016</td>\n",
       "      <td>Spending</td>\n",
       "      <td>2</td>\n",
       "      <td>Public Works, Transportation &amp; Commerce</td>\n",
       "      <td>DPW</td>\n",
       "      <td>General Services Agency - Public Works</td>\n",
       "      <td>BAM</td>\n",
       "      <td>Architecture</td>\n",
       "      <td>013</td>\n",
       "      <td>Mandatory Fringe Benefits</td>\n",
       "      <td>017</td>\n",
       "      <td>Unemployment Insurance</td>\n",
       "      <td>01701</td>\n",
       "      <td>Unemployment Insurance</td>\n",
       "      <td>2S</td>\n",
       "      <td>Special Revenue Funds</td>\n",
       "      <td>9919.50</td>\n",
       "    </tr>\n",
       "    <tr>\n",
       "      <th>1</th>\n",
       "      <td>2016</td>\n",
       "      <td>Revenue</td>\n",
       "      <td>2</td>\n",
       "      <td>Public Works, Transportation &amp; Commerce</td>\n",
       "      <td>MTA</td>\n",
       "      <td>Municipal Transportation Agency</td>\n",
       "      <td>BE0</td>\n",
       "      <td>Revenue, Transfers &amp; Reserves</td>\n",
       "      <td>200</td>\n",
       "      <td>Licenses, Permits &amp; Franchises</td>\n",
       "      <td>202</td>\n",
       "      <td>Other Business/Professional Licenses</td>\n",
       "      <td>20231</td>\n",
       "      <td>Taxi Medallion Sales</td>\n",
       "      <td>5O</td>\n",
       "      <td>MTA Taxi Commission</td>\n",
       "      <td>1861428.24</td>\n",
       "    </tr>\n",
       "    <tr>\n",
       "      <th>2</th>\n",
       "      <td>2014</td>\n",
       "      <td>Spending</td>\n",
       "      <td>2</td>\n",
       "      <td>Public Works, Transportation &amp; Commerce</td>\n",
       "      <td>WTR</td>\n",
       "      <td>PUC Water Department</td>\n",
       "      <td>BDL</td>\n",
       "      <td>Water Pumping</td>\n",
       "      <td>040</td>\n",
       "      <td>Materials &amp; Supplies</td>\n",
       "      <td>049</td>\n",
       "      <td>Other Materials &amp; Supplies</td>\n",
       "      <td>04951</td>\n",
       "      <td>Other Office Supplies</td>\n",
       "      <td>5W</td>\n",
       "      <td>PUC Water Department Funds</td>\n",
       "      <td>294.13</td>\n",
       "    </tr>\n",
       "  </tbody>\n",
       "</table>\n",
       "</div>"
      ],
      "text/plain": [
       "   Fiscal Year Revenue or Spending  OrgGroupID  \\\n",
       "0         2016            Spending           2   \n",
       "1         2016             Revenue           2   \n",
       "2         2014            Spending           2   \n",
       "\n",
       "                                  OrgGroup DeptID  \\\n",
       "0  Public Works, Transportation & Commerce    DPW   \n",
       "1  Public Works, Transportation & Commerce    MTA   \n",
       "2  Public Works, Transportation & Commerce    WTR   \n",
       "\n",
       "                                     Dept ProgramID  \\\n",
       "0  General Services Agency - Public Works       BAM   \n",
       "1         Municipal Transportation Agency       BE0   \n",
       "2                    PUC Water Department       BDL   \n",
       "\n",
       "                         Program CharacterID                       Character  \\\n",
       "0                   Architecture         013       Mandatory Fringe Benefits   \n",
       "1  Revenue, Transfers & Reserves         200  Licenses, Permits & Franchises   \n",
       "2                  Water Pumping         040            Materials & Supplies   \n",
       "\n",
       "  Object Code                                Object Sub-object Code  \\\n",
       "0         017                Unemployment Insurance           01701   \n",
       "1         202  Other Business/Professional Licenses           20231   \n",
       "2         049            Other Materials & Supplies           04951   \n",
       "\n",
       "               Sub-object Fund Type Code                   Fund Type  \\\n",
       "0  Unemployment Insurance             2S       Special Revenue Funds   \n",
       "1    Taxi Medallion Sales             5O         MTA Taxi Commission   \n",
       "2   Other Office Supplies             5W  PUC Water Department Funds   \n",
       "\n",
       "       Amount  \n",
       "0     9919.50  \n",
       "1  1861428.24  \n",
       "2      294.13  "
      ]
     },
     "execution_count": 97,
     "metadata": {},
     "output_type": "execute_result"
    }
   ],
   "source": [
    "spend_and_rev[:3]"
   ]
  },
  {
   "cell_type": "code",
   "execution_count": 101,
   "metadata": {
    "collapsed": false
   },
   "outputs": [],
   "source": [
    "del spend_and_rev['Object Code']"
   ]
  },
  {
   "cell_type": "code",
   "execution_count": 102,
   "metadata": {
    "collapsed": true
   },
   "outputs": [],
   "source": [
    "del spend_and_rev['Object']"
   ]
  },
  {
   "cell_type": "code",
   "execution_count": 103,
   "metadata": {
    "collapsed": true
   },
   "outputs": [],
   "source": [
    "del spend_and_rev['Sub-object Code']"
   ]
  },
  {
   "cell_type": "code",
   "execution_count": 104,
   "metadata": {
    "collapsed": true
   },
   "outputs": [],
   "source": [
    "del spend_and_rev['Sub-object']"
   ]
  },
  {
   "cell_type": "code",
   "execution_count": 105,
   "metadata": {
    "collapsed": true
   },
   "outputs": [],
   "source": [
    "del spend_and_rev['Fund Type Code']"
   ]
  },
  {
   "cell_type": "code",
   "execution_count": 106,
   "metadata": {
    "collapsed": true
   },
   "outputs": [],
   "source": [
    "del spend_and_rev['Fund Type']"
   ]
  },
  {
   "cell_type": "code",
   "execution_count": 163,
   "metadata": {
    "collapsed": false
   },
   "outputs": [
    {
     "data": {
      "text/html": [
       "<div>\n",
       "<table border=\"1\" class=\"dataframe\">\n",
       "  <thead>\n",
       "    <tr style=\"text-align: right;\">\n",
       "      <th></th>\n",
       "      <th>Fiscal Year</th>\n",
       "      <th>Revenue or Spending</th>\n",
       "      <th>OrgGroupID</th>\n",
       "      <th>OrgGroup</th>\n",
       "      <th>DeptID</th>\n",
       "      <th>Dept</th>\n",
       "      <th>ProgramID</th>\n",
       "      <th>Program</th>\n",
       "      <th>Amount</th>\n",
       "      <th>DepCon</th>\n",
       "    </tr>\n",
       "  </thead>\n",
       "  <tbody>\n",
       "    <tr>\n",
       "      <th>0</th>\n",
       "      <td>2016</td>\n",
       "      <td>Spending</td>\n",
       "      <td>2</td>\n",
       "      <td>Public Works, Transportation &amp; Commerce</td>\n",
       "      <td>DPW</td>\n",
       "      <td>General Services Agency - Public Works</td>\n",
       "      <td>BAM</td>\n",
       "      <td>Architecture</td>\n",
       "      <td>9919.50</td>\n",
       "      <td>DPW, General Services Agency - Public Works</td>\n",
       "    </tr>\n",
       "    <tr>\n",
       "      <th>1</th>\n",
       "      <td>2016</td>\n",
       "      <td>Revenue</td>\n",
       "      <td>2</td>\n",
       "      <td>Public Works, Transportation &amp; Commerce</td>\n",
       "      <td>MTA</td>\n",
       "      <td>Municipal Transportation Agency</td>\n",
       "      <td>BE0</td>\n",
       "      <td>Revenue, Transfers &amp; Reserves</td>\n",
       "      <td>1861428.24</td>\n",
       "      <td>MTA, Municipal Transportation Agency</td>\n",
       "    </tr>\n",
       "    <tr>\n",
       "      <th>2</th>\n",
       "      <td>2014</td>\n",
       "      <td>Spending</td>\n",
       "      <td>2</td>\n",
       "      <td>Public Works, Transportation &amp; Commerce</td>\n",
       "      <td>WTR</td>\n",
       "      <td>PUC Water Department</td>\n",
       "      <td>BDL</td>\n",
       "      <td>Water Pumping</td>\n",
       "      <td>294.13</td>\n",
       "      <td>WTR, PUC Water Department</td>\n",
       "    </tr>\n",
       "  </tbody>\n",
       "</table>\n",
       "</div>"
      ],
      "text/plain": [
       "   Fiscal Year Revenue or Spending  OrgGroupID  \\\n",
       "0         2016            Spending           2   \n",
       "1         2016             Revenue           2   \n",
       "2         2014            Spending           2   \n",
       "\n",
       "                                  OrgGroup DeptID  \\\n",
       "0  Public Works, Transportation & Commerce    DPW   \n",
       "1  Public Works, Transportation & Commerce    MTA   \n",
       "2  Public Works, Transportation & Commerce    WTR   \n",
       "\n",
       "                                     Dept ProgramID  \\\n",
       "0  General Services Agency - Public Works       BAM   \n",
       "1         Municipal Transportation Agency       BE0   \n",
       "2                    PUC Water Department       BDL   \n",
       "\n",
       "                         Program      Amount  \\\n",
       "0                   Architecture     9919.50   \n",
       "1  Revenue, Transfers & Reserves  1861428.24   \n",
       "2                  Water Pumping      294.13   \n",
       "\n",
       "                                        DepCon  \n",
       "0  DPW, General Services Agency - Public Works  \n",
       "1         MTA, Municipal Transportation Agency  \n",
       "2                    WTR, PUC Water Department  "
      ]
     },
     "execution_count": 163,
     "metadata": {},
     "output_type": "execute_result"
    }
   ],
   "source": [
    "spend_and_rev[:3]"
   ]
  },
  {
   "cell_type": "markdown",
   "metadata": {},
   "source": [
    "## Delete OrgGroup, Dept, and DepCon\n",
    "\n",
    "#### Since Im creating OrgGroup and Dept tables in my database I dont need these columns in Spend_and_Rev table. DepCon is a temp column so I can get rid of that as well."
   ]
  },
  {
   "cell_type": "code",
   "execution_count": 199,
   "metadata": {
    "collapsed": true
   },
   "outputs": [],
   "source": [
    "del spend_and_rev['DepCon']"
   ]
  },
  {
   "cell_type": "code",
   "execution_count": 200,
   "metadata": {
    "collapsed": true
   },
   "outputs": [],
   "source": [
    "del spend_and_rev['OrgGroup']"
   ]
  },
  {
   "cell_type": "code",
   "execution_count": 201,
   "metadata": {
    "collapsed": true
   },
   "outputs": [],
   "source": [
    "del spend_and_rev['Dept']"
   ]
  },
  {
   "cell_type": "code",
   "execution_count": 203,
   "metadata": {
    "collapsed": false
   },
   "outputs": [
    {
     "data": {
      "text/html": [
       "<div>\n",
       "<table border=\"1\" class=\"dataframe\">\n",
       "  <thead>\n",
       "    <tr style=\"text-align: right;\">\n",
       "      <th></th>\n",
       "      <th>Fiscal Year</th>\n",
       "      <th>Revenue or Spending</th>\n",
       "      <th>OrgGroupID</th>\n",
       "      <th>DeptID</th>\n",
       "      <th>Amount</th>\n",
       "    </tr>\n",
       "  </thead>\n",
       "  <tbody>\n",
       "    <tr>\n",
       "      <th>0</th>\n",
       "      <td>2016</td>\n",
       "      <td>Spending</td>\n",
       "      <td>2</td>\n",
       "      <td>DPW</td>\n",
       "      <td>9919.50</td>\n",
       "    </tr>\n",
       "    <tr>\n",
       "      <th>1</th>\n",
       "      <td>2016</td>\n",
       "      <td>Revenue</td>\n",
       "      <td>2</td>\n",
       "      <td>MTA</td>\n",
       "      <td>1861428.24</td>\n",
       "    </tr>\n",
       "    <tr>\n",
       "      <th>2</th>\n",
       "      <td>2014</td>\n",
       "      <td>Spending</td>\n",
       "      <td>2</td>\n",
       "      <td>WTR</td>\n",
       "      <td>294.13</td>\n",
       "    </tr>\n",
       "  </tbody>\n",
       "</table>\n",
       "</div>"
      ],
      "text/plain": [
       "   Fiscal Year Revenue or Spending  OrgGroupID DeptID      Amount\n",
       "0         2016            Spending           2    DPW     9919.50\n",
       "1         2016             Revenue           2    MTA  1861428.24\n",
       "2         2014            Spending           2    WTR      294.13"
      ]
     },
     "execution_count": 203,
     "metadata": {},
     "output_type": "execute_result"
    }
   ],
   "source": [
    "spend_and_rev[:3]"
   ]
  },
  {
   "cell_type": "markdown",
   "metadata": {},
   "source": [
    "## Save to CSV\n",
    "\n",
    "#### The spending and revenue table is ready, next I'll save it as a csv."
   ]
  },
  {
   "cell_type": "code",
   "execution_count": 204,
   "metadata": {
    "collapsed": false
   },
   "outputs": [],
   "source": [
    "spend_and_rev.to_csv('Spend_And_Rev.csv')"
   ]
  },
  {
   "cell_type": "code",
   "execution_count": null,
   "metadata": {
    "collapsed": true
   },
   "outputs": [],
   "source": []
  }
 ],
 "metadata": {
  "kernelspec": {
   "display_name": "Python 3",
   "language": "python",
   "name": "python3"
  },
  "language_info": {
   "codemirror_mode": {
    "name": "ipython",
    "version": 3
   },
   "file_extension": ".py",
   "mimetype": "text/x-python",
   "name": "python",
   "nbconvert_exporter": "python",
   "pygments_lexer": "ipython3",
   "version": "3.5.1"
  }
 },
 "nbformat": 4,
 "nbformat_minor": 0
}
