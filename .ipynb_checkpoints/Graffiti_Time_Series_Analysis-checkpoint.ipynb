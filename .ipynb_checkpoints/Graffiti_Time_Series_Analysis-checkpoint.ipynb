{
 "cells": [
  {
   "cell_type": "markdown",
   "metadata": {},
   "source": [
    "# Grafetti Time Series Analysis"
   ]
  },
  {
   "cell_type": "code",
   "execution_count": 1,
   "metadata": {
    "collapsed": false
   },
   "outputs": [],
   "source": [
    "# Render plots inline\n",
    "%matplotlib inline\n",
    "\n",
    "import pandas as pd\n",
    "import numpy as np\n",
    "import matplotlib.pyplot as plt\n",
    "import matplotlib\n",
    "\n",
    "matplotlib.style.use('ggplot')  # Make the graphs a bit prettier\n",
    "plt.rcParams['figure.figsize'] = (15, 5)"
   ]
  },
  {
   "cell_type": "markdown",
   "metadata": {},
   "source": [
    "# Reading data from a csv file\n"
   ]
  },
  {
   "cell_type": "code",
   "execution_count": 3,
   "metadata": {
    "collapsed": false
   },
   "outputs": [
    {
     "data": {
      "text/html": [
       "<div>\n",
       "<table border=\"1\" class=\"dataframe\">\n",
       "  <thead>\n",
       "    <tr style=\"text-align: right;\">\n",
       "      <th></th>\n",
       "      <th>CASE ID</th>\n",
       "      <th>CLOSED DATE</th>\n",
       "      <th>STATUS</th>\n",
       "      <th>TYPE</th>\n",
       "      <th>REQUEST DESCRIPTION</th>\n",
       "      <th>LOCATION DESCRIPTION</th>\n",
       "      <th>SUPERVISOR DISTRICT</th>\n",
       "      <th>ADDRESS</th>\n",
       "      <th>POSITION</th>\n",
       "    </tr>\n",
       "    <tr>\n",
       "      <th>OPEN DATE</th>\n",
       "      <th></th>\n",
       "      <th></th>\n",
       "      <th></th>\n",
       "      <th></th>\n",
       "      <th></th>\n",
       "      <th></th>\n",
       "      <th></th>\n",
       "      <th></th>\n",
       "      <th></th>\n",
       "    </tr>\n",
       "  </thead>\n",
       "  <tbody>\n",
       "    <tr>\n",
       "      <th>2014-01-28 11:02:00</th>\n",
       "      <td>3314435</td>\n",
       "      <td>NaN</td>\n",
       "      <td>Open</td>\n",
       "      <td>Graffiti on Private Property</td>\n",
       "      <td>Graffiti - Private  Private property graffiti</td>\n",
       "      <td>3600 03RD ST</td>\n",
       "      <td>10</td>\n",
       "      <td>Intersection of 3RD ST and CUSTER AVE</td>\n",
       "      <td>(37.7442592931634, -122.387372633637)</td>\n",
       "    </tr>\n",
       "    <tr>\n",
       "      <th>2014-01-27 15:54:00</th>\n",
       "      <td>3312060</td>\n",
       "      <td>01/27/2014 07:54:00 PM</td>\n",
       "      <td>Closed</td>\n",
       "      <td>Graffiti on Public Property</td>\n",
       "      <td>Graffiti on bus shelter at 3rd and Perry. This...</td>\n",
       "      <td>NaN</td>\n",
       "      <td>6</td>\n",
       "      <td>Intersection of 3RD ST and PERRY ST</td>\n",
       "      <td>(37.7821192380475, -122.396841560853)</td>\n",
       "    </tr>\n",
       "    <tr>\n",
       "      <th>2014-01-08 11:05:00</th>\n",
       "      <td>3247391</td>\n",
       "      <td>NaN</td>\n",
       "      <td>Open</td>\n",
       "      <td>Graffiti on Private Property</td>\n",
       "      <td>Graffiti - Private  Private property graffiti</td>\n",
       "      <td>428 03RD ST</td>\n",
       "      <td>6</td>\n",
       "      <td>Intersection of 3RD ST and PERRY ST</td>\n",
       "      <td>(37.7821192380475, -122.396841560853)</td>\n",
       "    </tr>\n",
       "  </tbody>\n",
       "</table>\n",
       "</div>"
      ],
      "text/plain": [
       "                     CASE ID             CLOSED DATE  STATUS  \\\n",
       "OPEN DATE                                                      \n",
       "2014-01-28 11:02:00  3314435                     NaN    Open   \n",
       "2014-01-27 15:54:00  3312060  01/27/2014 07:54:00 PM  Closed   \n",
       "2014-01-08 11:05:00  3247391                     NaN    Open   \n",
       "\n",
       "                                             TYPE  \\\n",
       "OPEN DATE                                           \n",
       "2014-01-28 11:02:00  Graffiti on Private Property   \n",
       "2014-01-27 15:54:00   Graffiti on Public Property   \n",
       "2014-01-08 11:05:00  Graffiti on Private Property   \n",
       "\n",
       "                                                   REQUEST DESCRIPTION  \\\n",
       "OPEN DATE                                                                \n",
       "2014-01-28 11:02:00      Graffiti - Private  Private property graffiti   \n",
       "2014-01-27 15:54:00  Graffiti on bus shelter at 3rd and Perry. This...   \n",
       "2014-01-08 11:05:00      Graffiti - Private  Private property graffiti   \n",
       "\n",
       "                    LOCATION DESCRIPTION  SUPERVISOR DISTRICT  \\\n",
       "OPEN DATE                                                       \n",
       "2014-01-28 11:02:00         3600 03RD ST                   10   \n",
       "2014-01-27 15:54:00                  NaN                    6   \n",
       "2014-01-08 11:05:00          428 03RD ST                    6   \n",
       "\n",
       "                                                   ADDRESS  \\\n",
       "OPEN DATE                                                    \n",
       "2014-01-28 11:02:00  Intersection of 3RD ST and CUSTER AVE   \n",
       "2014-01-27 15:54:00    Intersection of 3RD ST and PERRY ST   \n",
       "2014-01-08 11:05:00    Intersection of 3RD ST and PERRY ST   \n",
       "\n",
       "                                                  POSITION  \n",
       "OPEN DATE                                                   \n",
       "2014-01-28 11:02:00  (37.7442592931634, -122.387372633637)  \n",
       "2014-01-27 15:54:00  (37.7821192380475, -122.396841560853)  \n",
       "2014-01-08 11:05:00  (37.7821192380475, -122.396841560853)  "
      ]
     },
     "execution_count": 3,
     "metadata": {},
     "output_type": "execute_result"
    }
   ],
   "source": [
    "# Read data from CSV file\n",
    "graffiti_data = pd.read_csv('Graffiti_30_Days.csv', parse_dates=['OPEN DATE'], index_col=['OPEN DATE'])\n",
    "\n",
    "# Sampling data set\n",
    "graffiti_data[:3]\n",
    "\n"
   ]
  },
  {
   "cell_type": "markdown",
   "metadata": {},
   "source": [
    "## Manipulating Dates\n",
    "\n",
    "#### For the purpose of this coding challenge I decided to use OPEN DATE as the index so I could show some date manipulation.\n",
    "#### I'm going to create several columns:\n",
    "    * A Date column derived from Day, Month, Year columns that I'll create.\n",
    "    * A weekday column"
   ]
  },
  {
   "cell_type": "code",
   "execution_count": 4,
   "metadata": {
    "collapsed": false
   },
   "outputs": [
    {
     "data": {
      "text/html": [
       "<div>\n",
       "<table border=\"1\" class=\"dataframe\">\n",
       "  <thead>\n",
       "    <tr style=\"text-align: right;\">\n",
       "      <th></th>\n",
       "      <th>CASE ID</th>\n",
       "      <th>CLOSED DATE</th>\n",
       "      <th>STATUS</th>\n",
       "      <th>TYPE</th>\n",
       "      <th>REQUEST DESCRIPTION</th>\n",
       "      <th>LOCATION DESCRIPTION</th>\n",
       "      <th>SUPERVISOR DISTRICT</th>\n",
       "      <th>ADDRESS</th>\n",
       "      <th>POSITION</th>\n",
       "      <th>DAY</th>\n",
       "      <th>MONTH</th>\n",
       "      <th>YEAR</th>\n",
       "      <th>DATE</th>\n",
       "      <th>WEEKDAY</th>\n",
       "    </tr>\n",
       "    <tr>\n",
       "      <th>OPEN DATE</th>\n",
       "      <th></th>\n",
       "      <th></th>\n",
       "      <th></th>\n",
       "      <th></th>\n",
       "      <th></th>\n",
       "      <th></th>\n",
       "      <th></th>\n",
       "      <th></th>\n",
       "      <th></th>\n",
       "      <th></th>\n",
       "      <th></th>\n",
       "      <th></th>\n",
       "      <th></th>\n",
       "      <th></th>\n",
       "    </tr>\n",
       "  </thead>\n",
       "  <tbody>\n",
       "    <tr>\n",
       "      <th>2014-01-28 11:02:00</th>\n",
       "      <td>3314435</td>\n",
       "      <td>NaN</td>\n",
       "      <td>Open</td>\n",
       "      <td>Graffiti on Private Property</td>\n",
       "      <td>Graffiti - Private  Private property graffiti</td>\n",
       "      <td>3600 03RD ST</td>\n",
       "      <td>10</td>\n",
       "      <td>Intersection of 3RD ST and CUSTER AVE</td>\n",
       "      <td>(37.7442592931634, -122.387372633637)</td>\n",
       "      <td>28</td>\n",
       "      <td>1</td>\n",
       "      <td>2014</td>\n",
       "      <td>2014-01-28</td>\n",
       "      <td>1</td>\n",
       "    </tr>\n",
       "    <tr>\n",
       "      <th>2014-01-27 15:54:00</th>\n",
       "      <td>3312060</td>\n",
       "      <td>01/27/2014 07:54:00 PM</td>\n",
       "      <td>Closed</td>\n",
       "      <td>Graffiti on Public Property</td>\n",
       "      <td>Graffiti on bus shelter at 3rd and Perry. This...</td>\n",
       "      <td>NaN</td>\n",
       "      <td>6</td>\n",
       "      <td>Intersection of 3RD ST and PERRY ST</td>\n",
       "      <td>(37.7821192380475, -122.396841560853)</td>\n",
       "      <td>27</td>\n",
       "      <td>1</td>\n",
       "      <td>2014</td>\n",
       "      <td>2014-01-27</td>\n",
       "      <td>0</td>\n",
       "    </tr>\n",
       "    <tr>\n",
       "      <th>2014-01-08 11:05:00</th>\n",
       "      <td>3247391</td>\n",
       "      <td>NaN</td>\n",
       "      <td>Open</td>\n",
       "      <td>Graffiti on Private Property</td>\n",
       "      <td>Graffiti - Private  Private property graffiti</td>\n",
       "      <td>428 03RD ST</td>\n",
       "      <td>6</td>\n",
       "      <td>Intersection of 3RD ST and PERRY ST</td>\n",
       "      <td>(37.7821192380475, -122.396841560853)</td>\n",
       "      <td>8</td>\n",
       "      <td>1</td>\n",
       "      <td>2014</td>\n",
       "      <td>2014-01-08</td>\n",
       "      <td>2</td>\n",
       "    </tr>\n",
       "  </tbody>\n",
       "</table>\n",
       "</div>"
      ],
      "text/plain": [
       "                     CASE ID             CLOSED DATE  STATUS  \\\n",
       "OPEN DATE                                                      \n",
       "2014-01-28 11:02:00  3314435                     NaN    Open   \n",
       "2014-01-27 15:54:00  3312060  01/27/2014 07:54:00 PM  Closed   \n",
       "2014-01-08 11:05:00  3247391                     NaN    Open   \n",
       "\n",
       "                                             TYPE  \\\n",
       "OPEN DATE                                           \n",
       "2014-01-28 11:02:00  Graffiti on Private Property   \n",
       "2014-01-27 15:54:00   Graffiti on Public Property   \n",
       "2014-01-08 11:05:00  Graffiti on Private Property   \n",
       "\n",
       "                                                   REQUEST DESCRIPTION  \\\n",
       "OPEN DATE                                                                \n",
       "2014-01-28 11:02:00      Graffiti - Private  Private property graffiti   \n",
       "2014-01-27 15:54:00  Graffiti on bus shelter at 3rd and Perry. This...   \n",
       "2014-01-08 11:05:00      Graffiti - Private  Private property graffiti   \n",
       "\n",
       "                    LOCATION DESCRIPTION  SUPERVISOR DISTRICT  \\\n",
       "OPEN DATE                                                       \n",
       "2014-01-28 11:02:00         3600 03RD ST                   10   \n",
       "2014-01-27 15:54:00                  NaN                    6   \n",
       "2014-01-08 11:05:00          428 03RD ST                    6   \n",
       "\n",
       "                                                   ADDRESS  \\\n",
       "OPEN DATE                                                    \n",
       "2014-01-28 11:02:00  Intersection of 3RD ST and CUSTER AVE   \n",
       "2014-01-27 15:54:00    Intersection of 3RD ST and PERRY ST   \n",
       "2014-01-08 11:05:00    Intersection of 3RD ST and PERRY ST   \n",
       "\n",
       "                                                  POSITION  DAY  MONTH  YEAR  \\\n",
       "OPEN DATE                                                                      \n",
       "2014-01-28 11:02:00  (37.7442592931634, -122.387372633637)   28      1  2014   \n",
       "2014-01-27 15:54:00  (37.7821192380475, -122.396841560853)   27      1  2014   \n",
       "2014-01-08 11:05:00  (37.7821192380475, -122.396841560853)    8      1  2014   \n",
       "\n",
       "                          DATE  WEEKDAY  \n",
       "OPEN DATE                                \n",
       "2014-01-28 11:02:00 2014-01-28        1  \n",
       "2014-01-27 15:54:00 2014-01-27        0  \n",
       "2014-01-08 11:05:00 2014-01-08        2  "
      ]
     },
     "execution_count": 4,
     "metadata": {},
     "output_type": "execute_result"
    }
   ],
   "source": [
    "# Create DAY, MONTH, YEAR, DATE, AND WEEKDAY Columns\n",
    "graffiti_data.loc[:, 'DAY'] = graffiti_data.index.day\n",
    "graffiti_data.loc[:, 'MONTH'] = graffiti_data.index.month\n",
    "graffiti_data.loc[:, 'YEAR'] = graffiti_data.index.year\n",
    "graffiti_data.loc[:, 'DATE'] = pd.to_datetime(graffiti_data.YEAR*10000+graffiti_data.MONTH*100+graffiti_data.DAY,format='%Y%m%d')\n",
    "graffiti_data.loc[:, 'WEEKDAY'] = graffiti_data.index.weekday\n",
    "\n",
    "# Sampling data set\n",
    "graffiti_data[:3]"
   ]
  },
  {
   "cell_type": "markdown",
   "metadata": {},
   "source": [
    "## Formatting DATE Column\n",
    "\n",
    "#### My DATE column looks good but its currently in the format YYYY-MM-DD and I want it in the format MM-DD-YYYY.\n",
    "\n",
    "Format:\n",
    "FROM: YYYY/MM/DD    -> TO: MM/DD/YYYY"
   ]
  },
  {
   "cell_type": "code",
   "execution_count": 5,
   "metadata": {
    "collapsed": false
   },
   "outputs": [],
   "source": [
    "# Change DATE columns format\n",
    "graffiti_data['DATE'] = graffiti_data['DATE'].apply(lambda x: x.strftime('%m/%d/%Y'))"
   ]
  },
  {
   "cell_type": "code",
   "execution_count": 6,
   "metadata": {
    "collapsed": false
   },
   "outputs": [
    {
     "data": {
      "text/html": [
       "<div>\n",
       "<table border=\"1\" class=\"dataframe\">\n",
       "  <thead>\n",
       "    <tr style=\"text-align: right;\">\n",
       "      <th></th>\n",
       "      <th>CASE ID</th>\n",
       "      <th>CLOSED DATE</th>\n",
       "      <th>STATUS</th>\n",
       "      <th>TYPE</th>\n",
       "      <th>REQUEST DESCRIPTION</th>\n",
       "      <th>LOCATION DESCRIPTION</th>\n",
       "      <th>SUPERVISOR DISTRICT</th>\n",
       "      <th>ADDRESS</th>\n",
       "      <th>POSITION</th>\n",
       "      <th>DAY</th>\n",
       "      <th>MONTH</th>\n",
       "      <th>YEAR</th>\n",
       "      <th>DATE</th>\n",
       "      <th>WEEKDAY</th>\n",
       "    </tr>\n",
       "    <tr>\n",
       "      <th>OPEN DATE</th>\n",
       "      <th></th>\n",
       "      <th></th>\n",
       "      <th></th>\n",
       "      <th></th>\n",
       "      <th></th>\n",
       "      <th></th>\n",
       "      <th></th>\n",
       "      <th></th>\n",
       "      <th></th>\n",
       "      <th></th>\n",
       "      <th></th>\n",
       "      <th></th>\n",
       "      <th></th>\n",
       "      <th></th>\n",
       "    </tr>\n",
       "  </thead>\n",
       "  <tbody>\n",
       "    <tr>\n",
       "      <th>2014-01-28 11:02:00</th>\n",
       "      <td>3314435</td>\n",
       "      <td>NaN</td>\n",
       "      <td>Open</td>\n",
       "      <td>Graffiti on Private Property</td>\n",
       "      <td>Graffiti - Private  Private property graffiti</td>\n",
       "      <td>3600 03RD ST</td>\n",
       "      <td>10</td>\n",
       "      <td>Intersection of 3RD ST and CUSTER AVE</td>\n",
       "      <td>(37.7442592931634, -122.387372633637)</td>\n",
       "      <td>28</td>\n",
       "      <td>1</td>\n",
       "      <td>2014</td>\n",
       "      <td>01/28/2014</td>\n",
       "      <td>1</td>\n",
       "    </tr>\n",
       "    <tr>\n",
       "      <th>2014-01-27 15:54:00</th>\n",
       "      <td>3312060</td>\n",
       "      <td>01/27/2014 07:54:00 PM</td>\n",
       "      <td>Closed</td>\n",
       "      <td>Graffiti on Public Property</td>\n",
       "      <td>Graffiti on bus shelter at 3rd and Perry. This...</td>\n",
       "      <td>NaN</td>\n",
       "      <td>6</td>\n",
       "      <td>Intersection of 3RD ST and PERRY ST</td>\n",
       "      <td>(37.7821192380475, -122.396841560853)</td>\n",
       "      <td>27</td>\n",
       "      <td>1</td>\n",
       "      <td>2014</td>\n",
       "      <td>01/27/2014</td>\n",
       "      <td>0</td>\n",
       "    </tr>\n",
       "    <tr>\n",
       "      <th>2014-01-08 11:05:00</th>\n",
       "      <td>3247391</td>\n",
       "      <td>NaN</td>\n",
       "      <td>Open</td>\n",
       "      <td>Graffiti on Private Property</td>\n",
       "      <td>Graffiti - Private  Private property graffiti</td>\n",
       "      <td>428 03RD ST</td>\n",
       "      <td>6</td>\n",
       "      <td>Intersection of 3RD ST and PERRY ST</td>\n",
       "      <td>(37.7821192380475, -122.396841560853)</td>\n",
       "      <td>8</td>\n",
       "      <td>1</td>\n",
       "      <td>2014</td>\n",
       "      <td>01/08/2014</td>\n",
       "      <td>2</td>\n",
       "    </tr>\n",
       "  </tbody>\n",
       "</table>\n",
       "</div>"
      ],
      "text/plain": [
       "                     CASE ID             CLOSED DATE  STATUS  \\\n",
       "OPEN DATE                                                      \n",
       "2014-01-28 11:02:00  3314435                     NaN    Open   \n",
       "2014-01-27 15:54:00  3312060  01/27/2014 07:54:00 PM  Closed   \n",
       "2014-01-08 11:05:00  3247391                     NaN    Open   \n",
       "\n",
       "                                             TYPE  \\\n",
       "OPEN DATE                                           \n",
       "2014-01-28 11:02:00  Graffiti on Private Property   \n",
       "2014-01-27 15:54:00   Graffiti on Public Property   \n",
       "2014-01-08 11:05:00  Graffiti on Private Property   \n",
       "\n",
       "                                                   REQUEST DESCRIPTION  \\\n",
       "OPEN DATE                                                                \n",
       "2014-01-28 11:02:00      Graffiti - Private  Private property graffiti   \n",
       "2014-01-27 15:54:00  Graffiti on bus shelter at 3rd and Perry. This...   \n",
       "2014-01-08 11:05:00      Graffiti - Private  Private property graffiti   \n",
       "\n",
       "                    LOCATION DESCRIPTION  SUPERVISOR DISTRICT  \\\n",
       "OPEN DATE                                                       \n",
       "2014-01-28 11:02:00         3600 03RD ST                   10   \n",
       "2014-01-27 15:54:00                  NaN                    6   \n",
       "2014-01-08 11:05:00          428 03RD ST                    6   \n",
       "\n",
       "                                                   ADDRESS  \\\n",
       "OPEN DATE                                                    \n",
       "2014-01-28 11:02:00  Intersection of 3RD ST and CUSTER AVE   \n",
       "2014-01-27 15:54:00    Intersection of 3RD ST and PERRY ST   \n",
       "2014-01-08 11:05:00    Intersection of 3RD ST and PERRY ST   \n",
       "\n",
       "                                                  POSITION  DAY  MONTH  YEAR  \\\n",
       "OPEN DATE                                                                      \n",
       "2014-01-28 11:02:00  (37.7442592931634, -122.387372633637)   28      1  2014   \n",
       "2014-01-27 15:54:00  (37.7821192380475, -122.396841560853)   27      1  2014   \n",
       "2014-01-08 11:05:00  (37.7821192380475, -122.396841560853)    8      1  2014   \n",
       "\n",
       "                           DATE  WEEKDAY  \n",
       "OPEN DATE                                 \n",
       "2014-01-28 11:02:00  01/28/2014        1  \n",
       "2014-01-27 15:54:00  01/27/2014        0  \n",
       "2014-01-08 11:05:00  01/08/2014        2  "
      ]
     },
     "execution_count": 6,
     "metadata": {},
     "output_type": "execute_result"
    }
   ],
   "source": [
    "# Lets check it\n",
    "graffiti_data[:3]"
   ]
  },
  {
   "cell_type": "markdown",
   "metadata": {},
   "source": [
    "## Graffiti Statistics\n",
    "\n",
    "#### Lets break down the graffiti data."
   ]
  },
  {
   "cell_type": "markdown",
   "metadata": {},
   "source": [
    "## Graffiti Cases By District\n",
    "\n",
    "#### Heres a link to wikipedia with a map showing which neighborhoods each district covers.\n",
    "\n",
    "https://en.wikipedia.org/wiki/San_Francisco_Board_of_Supervisors"
   ]
  },
  {
   "cell_type": "code",
   "execution_count": 7,
   "metadata": {
    "collapsed": false
   },
   "outputs": [
    {
     "data": {
      "text/plain": [
       "<matplotlib.axes._subplots.AxesSubplot at 0x112422748>"
      ]
     },
     "execution_count": 7,
     "metadata": {},
     "output_type": "execute_result"
    },
    {
     "data": {
      "image/png": "[encoded data removed]",
      "text/plain": [
       "<matplotlib.figure.Figure at 0x112422588>"
      ]
     },
     "metadata": {},
     "output_type": "display_data"
    }
   ],
   "source": [
    "# Im using value_counts because I want to count the number of rows for each value in SUPERVISOR DISTRICT\n",
    "graffitiCounts_by_district = graffiti_data['SUPERVISOR DISTRICT'].value_counts()\n",
    "graffitiCounts_by_district.plot(kind='bar')"
   ]
  },
  {
   "cell_type": "markdown",
   "metadata": {},
   "source": [
    "## Graffiti Cases By District: Remove District 0:\n",
    "\n",
    "#### There is no district 0 so lets remove that from our dataset and re-plot."
   ]
  },
  {
   "cell_type": "code",
   "execution_count": 8,
   "metadata": {
    "collapsed": false
   },
   "outputs": [
    {
     "data": {
      "text/plain": [
       "<matplotlib.axes._subplots.AxesSubplot at 0x108d5fac8>"
      ]
     },
     "execution_count": 8,
     "metadata": {},
     "output_type": "execute_result"
    },
    {
     "data": {
      "image/png": "[encoded data removed]",
      "text/plain": [
       "<matplotlib.figure.Figure at 0x112c9c6a0>"
      ]
     },
     "metadata": {},
     "output_type": "display_data"
    }
   ],
   "source": [
    "graffitiCounts = graffiti_data[graffiti_data['SUPERVISOR DISTRICT'] != 0]\n",
    "graffitiCounts_by_district = graffitiCounts['SUPERVISOR DISTRICT'].value_counts()\n",
    "graffitiCounts_by_district.plot(kind='bar')"
   ]
  },
  {
   "cell_type": "markdown",
   "metadata": {},
   "source": [
    "## Graffiti Cases By Type"
   ]
  },
  {
   "cell_type": "code",
   "execution_count": 10,
   "metadata": {
    "collapsed": false
   },
   "outputs": [
    {
     "data": {
      "text/plain": [
       "Graffiti on Private Property            911\n",
       "Graffiti on Public Property             724\n",
       "Sign Repair or Replace                  109\n",
       "Internal Service Request                 86\n",
       "Request for City Services                72\n",
       "All RPD Issues                           29\n",
       "SSP Graffiti on Public Property          25\n",
       "SSP Graffiti on Private Property         20\n",
       "Abandoned Vehicles                       12\n",
       "Tree Maintenance Damage                  12\n",
       "SFMTA Feedback                           11\n",
       "Street and Sidewalk Cleaning Request     10\n",
       "SSP Sign Repair or Replace                8\n",
       "Damaged Property                          8\n",
       "SSP Request for City Services             7\n",
       "Illegal Postings                          4\n",
       "SSP Abandoned Vehicles                    3\n",
       "SSP All RPD Issues                        3\n",
       "Volunteer Programs                        2\n",
       "SSP Illegal Postings                      1\n",
       "Residential Building Request              1\n",
       "Streetlights                              1\n",
       "Litter Receptacle Maintenance             1\n",
       "Name: TYPE, dtype: int64"
      ]
     },
     "execution_count": 10,
     "metadata": {},
     "output_type": "execute_result"
    }
   ],
   "source": [
    "graffitiCounts_by_Type = graffiti_data['TYPE'].value_counts()\n",
    "# Sample dataset\n",
    "graffitiCounts_by_Type\n"
   ]
  },
  {
   "cell_type": "markdown",
   "metadata": {},
   "source": [
    "## Most of the reported cases are 1 of 5 types. I'll plot out the top 5."
   ]
  },
  {
   "cell_type": "code",
   "execution_count": 11,
   "metadata": {
    "collapsed": false
   },
   "outputs": [
    {
     "data": {
      "text/plain": [
       "<matplotlib.axes._subplots.AxesSubplot at 0x112ac10f0>"
      ]
     },
     "execution_count": 11,
     "metadata": {},
     "output_type": "execute_result"
    },
    {
     "data": {
      "image/png": "[encoded data removed]",
      "text/plain": [
       "<matplotlib.figure.Figure at 0x112abd6d8>"
      ]
     },
     "metadata": {},
     "output_type": "display_data"
    }
   ],
   "source": [
    "# Get the top 5 types\n",
    "graffitiCounts_by_Type[:5].plot(kind='bar')"
   ]
  },
  {
   "cell_type": "markdown",
   "metadata": {},
   "source": [
    "# Timeseries\n",
    "\n",
    "## What if we want to see the number of cases each day of the month?\n",
    "\n",
    "#### To get the number of graffiti cases for each day I'll groupby the date column and then return the count using the size function."
   ]
  },
  {
   "cell_type": "code",
   "execution_count": 12,
   "metadata": {
    "collapsed": false
   },
   "outputs": [
    {
     "data": {
      "text/plain": [
       "<matplotlib.axes._subplots.AxesSubplot at 0x108e624a8>"
      ]
     },
     "execution_count": 12,
     "metadata": {},
     "output_type": "execute_result"
    },
    {
     "data": {
      "image/png": "[encoded data removed]",
      "text/plain": [
       "<matplotlib.figure.Figure at 0x112b865c0>"
      ]
     },
     "metadata": {},
     "output_type": "display_data"
    }
   ],
   "source": [
    "# Create dataframe\n",
    "day_counts = graffiti_data.groupby('DATE').size()\n",
    "# Plot dataframe\n",
    "day_counts.plot(kind='line')"
   ]
  },
  {
   "cell_type": "markdown",
   "metadata": {},
   "source": [
    "## What about breaking out the cases by day of the week?\n",
    "\n",
    "#### I'll groupby the 'WEEKDAY' column and use the size method. "
   ]
  },
  {
   "cell_type": "code",
   "execution_count": 13,
   "metadata": {
    "collapsed": false
   },
   "outputs": [
    {
     "data": {
      "text/plain": [
       "WEEKDAY\n",
       "0    345\n",
       "1    463\n",
       "2    275\n",
       "3    321\n",
       "4    219\n",
       "5    210\n",
       "6    227\n",
       "dtype: int64"
      ]
     },
     "execution_count": 13,
     "metadata": {},
     "output_type": "execute_result"
    }
   ],
   "source": [
    "weekday_counts = graffiti_data.groupby('WEEKDAY').size()\n",
    "weekday_counts"
   ]
  },
  {
   "cell_type": "markdown",
   "metadata": {},
   "source": [
    "#### Next I'll replace 0 - 6 with the days of the week"
   ]
  },
  {
   "cell_type": "code",
   "execution_count": 14,
   "metadata": {
    "collapsed": false
   },
   "outputs": [
    {
     "data": {
      "text/plain": [
       "<matplotlib.axes._subplots.AxesSubplot at 0x112be1cf8>"
      ]
     },
     "execution_count": 14,
     "metadata": {},
     "output_type": "execute_result"
    },
    {
     "data": {
      "image/png": "[encoded data removed]",
      "text/plain": [
       "<matplotlib.figure.Figure at 0x112bf73c8>"
      ]
     },
     "metadata": {},
     "output_type": "display_data"
    }
   ],
   "source": [
    "weekday_counts.index = ['Monday', 'Tuesday', 'Wednesday', 'Thursday', 'Friday', 'Saturday', 'Sunday']\n",
    "weekday_counts.plot(kind='bar')"
   ]
  },
  {
   "cell_type": "markdown",
   "metadata": {},
   "source": [
    "### It looks like the beginning of the week is when the SFPD opens their graffiti investigations."
   ]
  },
  {
   "cell_type": "code",
   "execution_count": null,
   "metadata": {
    "collapsed": true
   },
   "outputs": [],
   "source": []
  }
 ],
 "metadata": {
  "kernelspec": {
   "display_name": "Python 3",
   "language": "python",
   "name": "python3"
  },
  "language_info": {
   "codemirror_mode": {
    "name": "ipython",
    "version": 3
   },
   "file_extension": ".py",
   "mimetype": "text/x-python",
   "name": "python",
   "nbconvert_exporter": "python",
   "pygments_lexer": "ipython3",
   "version": "3.5.1"
  }
 },
 "nbformat": 4,
 "nbformat_minor": 0
}
